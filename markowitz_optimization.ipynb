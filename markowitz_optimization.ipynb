{
 "cells": [
  {
   "cell_type": "code",
   "execution_count": 6,
   "metadata": {},
   "outputs": [],
   "source": [
    "import yfinance as yf\n",
    "import numpy as np\n",
    "import matplotlib.pyplot as plt \n",
    "import datetime as dt\n",
    "import pandas as pd\n",
    "from scipy.optimize import minimize\n",
    "import matplotlib.ticker as mtick\n",
    "from datetime import datetime"
   ]
  },
  {
   "cell_type": "code",
   "execution_count": 7,
   "metadata": {},
   "outputs": [],
   "source": [
    "inicio = dt.date(2015, 1, 1)\n",
    "fim = datetime.now()"
   ]
  },
  {
   "cell_type": "code",
   "execution_count": 8,
   "metadata": {},
   "outputs": [
    {
     "name": "stdout",
     "output_type": "stream",
     "text": [
      "[*********************100%%**********************]  6 of 6 completed\n"
     ]
    },
    {
     "data": {
      "text/html": [
       "<div>\n",
       "<style scoped>\n",
       "    .dataframe tbody tr th:only-of-type {\n",
       "        vertical-align: middle;\n",
       "    }\n",
       "\n",
       "    .dataframe tbody tr th {\n",
       "        vertical-align: top;\n",
       "    }\n",
       "\n",
       "    .dataframe thead th {\n",
       "        text-align: right;\n",
       "    }\n",
       "</style>\n",
       "<table border=\"1\" class=\"dataframe\">\n",
       "  <thead>\n",
       "    <tr style=\"text-align: right;\">\n",
       "      <th></th>\n",
       "      <th>AAPL</th>\n",
       "      <th>AMZN</th>\n",
       "      <th>GOOGL</th>\n",
       "      <th>MSFT</th>\n",
       "      <th>NKE</th>\n",
       "      <th>NVDA</th>\n",
       "    </tr>\n",
       "    <tr>\n",
       "      <th>Date</th>\n",
       "      <th></th>\n",
       "      <th></th>\n",
       "      <th></th>\n",
       "      <th></th>\n",
       "      <th></th>\n",
       "      <th></th>\n",
       "    </tr>\n",
       "  </thead>\n",
       "  <tbody>\n",
       "    <tr>\n",
       "      <th>2015-01-02</th>\n",
       "      <td>24.373957</td>\n",
       "      <td>15.426000</td>\n",
       "      <td>26.447147</td>\n",
       "      <td>40.232857</td>\n",
       "      <td>42.759666</td>\n",
       "      <td>0.483218</td>\n",
       "    </tr>\n",
       "    <tr>\n",
       "      <th>2015-01-05</th>\n",
       "      <td>23.687300</td>\n",
       "      <td>15.109500</td>\n",
       "      <td>25.943224</td>\n",
       "      <td>39.862877</td>\n",
       "      <td>42.071247</td>\n",
       "      <td>0.475057</td>\n",
       "    </tr>\n",
       "    <tr>\n",
       "      <th>2015-01-06</th>\n",
       "      <td>23.689537</td>\n",
       "      <td>14.764500</td>\n",
       "      <td>25.302961</td>\n",
       "      <td>39.277790</td>\n",
       "      <td>41.823746</td>\n",
       "      <td>0.460654</td>\n",
       "    </tr>\n",
       "    <tr>\n",
       "      <th>2015-01-07</th>\n",
       "      <td>24.021717</td>\n",
       "      <td>14.921000</td>\n",
       "      <td>25.228544</td>\n",
       "      <td>39.776833</td>\n",
       "      <td>42.687656</td>\n",
       "      <td>0.459453</td>\n",
       "    </tr>\n",
       "    <tr>\n",
       "      <th>2015-01-08</th>\n",
       "      <td>24.944681</td>\n",
       "      <td>15.023000</td>\n",
       "      <td>25.316446</td>\n",
       "      <td>40.946999</td>\n",
       "      <td>43.673096</td>\n",
       "      <td>0.476737</td>\n",
       "    </tr>\n",
       "    <tr>\n",
       "      <th>...</th>\n",
       "      <td>...</td>\n",
       "      <td>...</td>\n",
       "      <td>...</td>\n",
       "      <td>...</td>\n",
       "      <td>...</td>\n",
       "      <td>...</td>\n",
       "    </tr>\n",
       "    <tr>\n",
       "      <th>2024-08-26</th>\n",
       "      <td>227.179993</td>\n",
       "      <td>175.500000</td>\n",
       "      <td>166.160004</td>\n",
       "      <td>413.489990</td>\n",
       "      <td>84.279999</td>\n",
       "      <td>126.459999</td>\n",
       "    </tr>\n",
       "    <tr>\n",
       "      <th>2024-08-27</th>\n",
       "      <td>228.029999</td>\n",
       "      <td>173.119995</td>\n",
       "      <td>164.679993</td>\n",
       "      <td>413.839996</td>\n",
       "      <td>85.290001</td>\n",
       "      <td>128.300003</td>\n",
       "    </tr>\n",
       "    <tr>\n",
       "      <th>2024-08-28</th>\n",
       "      <td>226.490005</td>\n",
       "      <td>170.800003</td>\n",
       "      <td>162.850006</td>\n",
       "      <td>410.600006</td>\n",
       "      <td>82.790001</td>\n",
       "      <td>125.610001</td>\n",
       "    </tr>\n",
       "    <tr>\n",
       "      <th>2024-08-29</th>\n",
       "      <td>229.789993</td>\n",
       "      <td>172.119995</td>\n",
       "      <td>161.779999</td>\n",
       "      <td>413.119995</td>\n",
       "      <td>83.260002</td>\n",
       "      <td>117.589996</td>\n",
       "    </tr>\n",
       "    <tr>\n",
       "      <th>2024-08-30</th>\n",
       "      <td>229.000000</td>\n",
       "      <td>178.500000</td>\n",
       "      <td>163.380005</td>\n",
       "      <td>417.140015</td>\n",
       "      <td>83.320000</td>\n",
       "      <td>119.370003</td>\n",
       "    </tr>\n",
       "  </tbody>\n",
       "</table>\n",
       "<p>2432 rows × 6 columns</p>\n",
       "</div>"
      ],
      "text/plain": [
       "                  AAPL        AMZN       GOOGL        MSFT        NKE  \\\n",
       "Date                                                                    \n",
       "2015-01-02   24.373957   15.426000   26.447147   40.232857  42.759666   \n",
       "2015-01-05   23.687300   15.109500   25.943224   39.862877  42.071247   \n",
       "2015-01-06   23.689537   14.764500   25.302961   39.277790  41.823746   \n",
       "2015-01-07   24.021717   14.921000   25.228544   39.776833  42.687656   \n",
       "2015-01-08   24.944681   15.023000   25.316446   40.946999  43.673096   \n",
       "...                ...         ...         ...         ...        ...   \n",
       "2024-08-26  227.179993  175.500000  166.160004  413.489990  84.279999   \n",
       "2024-08-27  228.029999  173.119995  164.679993  413.839996  85.290001   \n",
       "2024-08-28  226.490005  170.800003  162.850006  410.600006  82.790001   \n",
       "2024-08-29  229.789993  172.119995  161.779999  413.119995  83.260002   \n",
       "2024-08-30  229.000000  178.500000  163.380005  417.140015  83.320000   \n",
       "\n",
       "                  NVDA  \n",
       "Date                    \n",
       "2015-01-02    0.483218  \n",
       "2015-01-05    0.475057  \n",
       "2015-01-06    0.460654  \n",
       "2015-01-07    0.459453  \n",
       "2015-01-08    0.476737  \n",
       "...                ...  \n",
       "2024-08-26  126.459999  \n",
       "2024-08-27  128.300003  \n",
       "2024-08-28  125.610001  \n",
       "2024-08-29  117.589996  \n",
       "2024-08-30  119.370003  \n",
       "\n",
       "[2432 rows x 6 columns]"
      ]
     },
     "execution_count": 8,
     "metadata": {},
     "output_type": "execute_result"
    }
   ],
   "source": [
    "\n",
    "\n",
    "lista_acoes = ['AAPL', \"NKE\", \"GOOGL\", \"AMZN\", \"NVDA\", \"MSFT\"]\n",
    "\n",
    "precos = yf.download(lista_acoes, inicio, fim)['Adj Close']\n",
    "precos"
   ]
  },
  {
   "cell_type": "code",
   "execution_count": 9,
   "metadata": {},
   "outputs": [],
   "source": [
    "retornos = precos.pct_change().apply(lambda x: np.log(1+x)).dropna() #Retorno logaritmo\n",
    "media_retornos = retornos.mean()\n",
    "matriz_cov = retornos.cov()"
   ]
  },
  {
   "cell_type": "code",
   "execution_count": 12,
   "metadata": {},
   "outputs": [],
   "source": [
    "numero_carteiras = 100000\n",
    "vetor_retornos_esperados = np.zeros(numero_carteiras)\n",
    "vetor_volatilidades_esperadas = np.zeros(numero_carteiras)\n",
    "vetor_sharpe = np.zeros(numero_carteiras)\n",
    "tabela_pesos = np.zeros((numero_carteiras, len(lista_acoes)))\n",
    "\n",
    "for k in range(numero_carteiras):\n",
    "\n",
    "    pesos = np.random.random(len(lista_acoes))\n",
    "    pesos = pesos/np.sum(pesos)\n",
    "    tabela_pesos[k, :] = pesos\n",
    "\n",
    "    vetor_retornos_esperados[k] = np.sum(media_retornos * pesos * 252)\n",
    "    vetor_volatilidades_esperadas[k] = np.sqrt(np.dot(pesos.T, np.dot(matriz_cov*252, pesos)))\n",
    "\n",
    "    vetor_sharpe[k] = vetor_retornos_esperados[k]/vetor_volatilidades_esperadas[k]\n"
   ]
  },
  {
   "cell_type": "code",
   "execution_count": 13,
   "metadata": {},
   "outputs": [
    {
     "data": {
      "text/plain": [
       "array([0.0729036 , 0.11188382, 0.01065182, 0.21147822, 0.01445748,\n",
       "       0.57862506])"
      ]
     },
     "execution_count": 13,
     "metadata": {},
     "output_type": "execute_result"
    }
   ],
   "source": [
    "indice_do_sharpe_maximo = vetor_sharpe.argmax()\n",
    "tabela_pesos[indice_do_sharpe_maximo] #Carteira recomendada pela otimização"
   ]
  },
  {
   "cell_type": "code",
   "execution_count": 14,
   "metadata": {},
   "outputs": [
    {
     "data": {
      "text/plain": [
       "array([0.25083712, 0.37091883, 0.31266487, ..., 0.25406316, 0.31680134,\n",
       "       0.27046534])"
      ]
     },
     "execution_count": 14,
     "metadata": {},
     "output_type": "execute_result"
    }
   ],
   "source": [
    "tabela_retornos_esperados_arit = np.exp(vetor_retornos_esperados) - 1\n",
    "\n",
    "tabela_retornos_esperados_arit "
   ]
  },
  {
   "cell_type": "code",
   "execution_count": 15,
   "metadata": {},
   "outputs": [],
   "source": [
    "eixo_y_fronteira_eficiente = np.linspace(tabela_retornos_esperados_arit.min(),\n",
    "                                         tabela_retornos_esperados_arit.max(), 50)\n",
    "\n",
    "def pegando_retorno(peso_teste):\n",
    "    peso_teste = np.array(peso_teste)\n",
    "    retorno = np.sum(media_retornos * peso_teste) *252\n",
    "    retorno = np.exp(retorno) - 1\n",
    "\n",
    "    return retorno\n",
    "\n",
    "def checando_soma_pesos(peso_teste):\n",
    "\n",
    "    return np.sum(peso_teste) -1\n",
    "\n",
    "def pegando_vol(peso_teste):\n",
    "    peso_teste = np.array(peso_teste)\n",
    "    vol = np.sqrt(np.dot(peso_teste.T, np.dot(matriz_cov*252, peso_teste)))\n",
    "\n",
    "    return vol\n",
    "\n",
    "peso_inicial = [1/len(lista_acoes)] * len(lista_acoes)\n",
    "limites = tuple([(0,1) for ativo in lista_acoes])\n",
    "\n",
    "eixo_x_fronteira_eficiente = []\n",
    "\n",
    "for retorno_possivel in eixo_y_fronteira_eficiente:\n",
    "\n",
    "    #Pegar melhor volatilidade para cada retorno\n",
    "\n",
    "    restricoes = ({'type': 'eq', 'fun': checando_soma_pesos},\n",
    "                  {'type': 'eq', 'fun': lambda w: pegando_retorno(w) - retorno_possivel})\n",
    "    \n",
    "    result = minimize(pegando_vol, peso_inicial, method='SLSQP', bounds=limites,\n",
    "                      constraints= restricoes)\n",
    "    eixo_x_fronteira_eficiente.append(result['fun'])"
   ]
  },
  {
   "cell_type": "code",
   "execution_count": 17,
   "metadata": {},
   "outputs": [
    {
     "data": {
      "image/png": "[encoded data removed]",
      "text/plain": [
       "<Figure size 640x480 with 1 Axes>"
      ]
     },
     "metadata": {},
     "output_type": "display_data"
    }
   ],
   "source": [
    "fig, ax = plt.subplots()\n",
    "\n",
    "ax.scatter(vetor_volatilidades_esperadas, tabela_retornos_esperados_arit, c = vetor_sharpe)\n",
    "plt.xlabel(\"Volatilidade Esperada\")\n",
    "plt.ylabel(\"Retorno esperado\")\n",
    "ax.scatter(vetor_volatilidades_esperadas[indice_do_sharpe_maximo],\n",
    "           tabela_retornos_esperados_arit[indice_do_sharpe_maximo], c = \"red\")\n",
    "ax.plot(eixo_x_fronteira_eficiente, eixo_y_fronteira_eficiente)\n",
    "ax.yaxis.set_major_formatter(mtick.PercentFormatter(1.0))\n",
    "ax.xaxis.set_major_formatter(mtick.PercentFormatter(1.0))\n",
    "\n",
    "plt.show()\n"
   ]
  },
  {
   "cell_type": "code",
   "execution_count": null,
   "metadata": {},
   "outputs": [],
   "source": []
  }
 ],
 "metadata": {
  "kernelspec": {
   "display_name": "base",
   "language": "python",
   "name": "python3"
  },
  "language_info": {
   "codemirror_mode": {
    "name": "ipython",
    "version": 3
   },
   "file_extension": ".py",
   "mimetype": "text/x-python",
   "name": "python",
   "nbconvert_exporter": "python",
   "pygments_lexer": "ipython3",
   "version": "3.11.5"
  }
 },
 "nbformat": 4,
 "nbformat_minor": 2
}
