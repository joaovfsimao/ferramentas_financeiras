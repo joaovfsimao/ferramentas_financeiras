{
 "cells": [
  {
   "cell_type": "code",
   "execution_count": 14,
   "metadata": {},
   "outputs": [],
   "source": [
    "from selenium import webdriver\n",
    "from selenium.webdriver.chrome.service import Service\n",
    "from webdriver_manager.chrome import ChromeDriverManager\n",
    "import pandas as pd\n",
    "from datetime import datetime\n",
    "from pandas.tseries.offsets import *\n",
    "from scipy.interpolate import CubicSpline"
   ]
  },
  {
   "cell_type": "code",
   "execution_count": 4,
   "metadata": {},
   "outputs": [],
   "source": [
    "driver = webdriver.Chrome(service=Service(ChromeDriverManager().install())) "
   ]
  },
  {
   "cell_type": "code",
   "execution_count": 5,
   "metadata": {},
   "outputs": [],
   "source": [
    "data_di = \"05/09/2024\"\n",
    "mercadoria = 'DI1'"
   ]
  },
  {
   "cell_type": "code",
   "execution_count": 6,
   "metadata": {},
   "outputs": [
    {
     "name": "stdout",
     "output_type": "stream",
     "text": [
      "2024-10-01    10.514\n",
      "2024-11-01    10.602\n",
      "2024-12-01    10.730\n",
      "2025-01-01    10.905\n",
      "2025-02-01    11.065\n",
      "2025-03-01    11.180\n",
      "2025-04-01    11.280\n",
      "2025-05-01    11.350\n",
      "2025-06-01    11.440\n",
      "2025-07-01    11.495\n",
      "2025-08-01    11.535\n",
      "2025-09-01    11.585\n",
      "2025-10-01    11.625\n",
      "2026-01-01    11.665\n",
      "2026-04-01    11.705\n",
      "2026-07-01    11.695\n",
      "2026-10-01    11.685\n",
      "2027-01-01    11.650\n",
      "2027-04-01    11.670\n",
      "2027-07-01    11.700\n",
      "2027-10-01    11.710\n",
      "2028-01-01    11.720\n",
      "2028-04-01    11.750\n",
      "2028-07-01    11.780\n",
      "2028-10-01    11.785\n",
      "2029-01-01    11.795\n",
      "2029-04-01    11.805\n",
      "2029-07-01    11.805\n",
      "2030-01-01    11.820\n",
      "2031-01-01    11.790\n",
      "2032-01-01    11.760\n",
      "2033-01-01    11.760\n",
      "2034-01-01    11.710\n",
      "2035-01-01    11.730\n",
      "Name: ÚLT. PREÇO, dtype: float64\n"
     ]
    }
   ],
   "source": [
    "url = f'''\n",
    "https://www2.bmf.com.br/pages/portal/bmfbovespa/boletim1/SistemaPregao1.asp?pagetype=pop&caminho=Resumo%20\n",
    "Estat%EDstico%20-%20Sistema%20Preg%E3o&Data={data_di}&Mercadoria={mercadoria}\n",
    "'''\n",
    "\n",
    "driver.get(url)\n",
    "\n",
    "driver.implicitly_wait(3)\n",
    "\n",
    "'''\n",
    "esse método de congelar é MUITO mais eficiente que o time, porque ele só espera o tempo necessário.\n",
    "se o elemento que você quer achar já carregou, ele roda e acabou. \n",
    "'''\n",
    "\n",
    "driver.maximize_window()\n",
    "\n",
    "#driver = webdriver.Chrome(service=Service(ChromeDriverManager().install()), options = options) \n",
    "\n",
    "\n",
    "local_tabela = '''\n",
    "/html/body/div/div[2]/form[1]/table[3]/tbody/tr[3]/td[3]/table\n",
    "'''\n",
    "\n",
    "local_indice = '''\n",
    "/html/body/div/div[2]/form[1]/table[3]/tbody/tr[3]/td[1]/table\n",
    "'''\n",
    "\n",
    "elemento = driver.find_element(\"xpath\", local_tabela)\n",
    "\n",
    "\n",
    "elemento_indice = driver.find_element(\"xpath\", local_indice)\n",
    "\n",
    "html_tabela = elemento.get_attribute('outerHTML')\n",
    "html_indice = elemento_indice.get_attribute('outerHTML')\n",
    "\n",
    "tabela = pd.read_html(html_tabela)[0]\n",
    "indice = pd.read_html(html_indice)[0]\n",
    "\n",
    "driver.quit()\n",
    "\n",
    "tabela.columns = tabela.loc[0]\n",
    "\n",
    "tabela = tabela['ÚLT. PREÇO']\n",
    "\n",
    "tabela = tabela.drop(0, axis = 0)\n",
    "\n",
    "indice.columns = indice.loc[0]\n",
    "\n",
    "indice_di = indice['VENCTO']\n",
    "\n",
    "indice = indice.drop(0, axis = 0)\n",
    "\n",
    "tabela.index = indice['VENCTO']\n",
    "\n",
    "tabela = tabela.astype(int)\n",
    "\n",
    "tabela = tabela[tabela != 0]\n",
    "\n",
    "tabela = tabela/1000\n",
    "\n",
    "legenda = pd.Series(['Jan', 'Feb', 'Mar', 'Apr', 'May', 'Jun', 'Jul', 'Aug', 'Sep', 'Oct', 'Nov', 'Dec'],\n",
    "                    index = ['F', 'G', 'H', 'J', 'K', 'M', 'N', 'Q', 'U', 'V', 'X', 'Z'])\n",
    "\n",
    "lista_datas = []\n",
    "\n",
    "for indice in tabela.index:\n",
    "\n",
    "    letra = indice[0]\n",
    "    \n",
    "    legenda[\"F\"]\n",
    "    ano = indice[1:3]\n",
    "\n",
    "    mes = legenda[letra]\n",
    "\n",
    "    data = f\"{mes}-{ano}\"\n",
    "\n",
    "    data = datetime.strptime(data, \"%b-%y\")\n",
    "\n",
    "    lista_datas.append(data)\n",
    "\n",
    "\n",
    "tabela.index = lista_datas  \n",
    "\n",
    "tabela\n",
    "\n",
    "print(tabela)"
   ]
  },
  {
   "cell_type": "markdown",
   "metadata": {},
   "source": [
    "# Interpolação\n",
    "\n",
    "Vamos esse cenário:\n",
    "\n",
    "Hoje é dia 06/09/2024.\n",
    "Essa é a curva de juros.\n",
    "Qual é o DI de 18/04 de 2028?"
   ]
  },
  {
   "cell_type": "code",
   "execution_count": 7,
   "metadata": {},
   "outputs": [
    {
     "data": {
      "text/plain": [
       "[19,\n",
       " 42,\n",
       " 62,\n",
       " 85,\n",
       " 107,\n",
       " 127,\n",
       " 149,\n",
       " 171,\n",
       " 192,\n",
       " 214,\n",
       " 237,\n",
       " 258,\n",
       " 280,\n",
       " 346,\n",
       " 410,\n",
       " 475,\n",
       " 541,\n",
       " 607,\n",
       " 671,\n",
       " 736,\n",
       " 802,\n",
       " 867,\n",
       " 932,\n",
       " 997,\n",
       " 1062,\n",
       " 1128,\n",
       " 1192,\n",
       " 1257,\n",
       " 1389,\n",
       " 1650,\n",
       " 1911,\n",
       " 2172,\n",
       " 2432,\n",
       " 2693]"
      ]
     },
     "execution_count": 7,
     "metadata": {},
     "output_type": "execute_result"
    }
   ],
   "source": [
    "curva_dias_uteis = []\n",
    "dia_atual = datetime(2024, 9, 5)\n",
    "\n",
    "for dia in tabela.index:\n",
    "    \n",
    "    dias_uteis = len(pd.date_range(dia_atual, dia, freq=BDay()))\n",
    "    \n",
    "    curva_dias_uteis.append(dias_uteis)\n",
    "    \n",
    "curva_dias_uteis"
   ]
  },
  {
   "cell_type": "code",
   "execution_count": 8,
   "metadata": {},
   "outputs": [
    {
     "data": {
      "text/plain": [
       "[10.514,\n",
       " 10.602,\n",
       " 10.73,\n",
       " 10.905,\n",
       " 11.065,\n",
       " 11.18,\n",
       " 11.28,\n",
       " 11.35,\n",
       " 11.44,\n",
       " 11.495,\n",
       " 11.535,\n",
       " 11.585,\n",
       " 11.625,\n",
       " 11.665,\n",
       " 11.705,\n",
       " 11.695,\n",
       " 11.685,\n",
       " 11.65,\n",
       " 11.67,\n",
       " 11.7,\n",
       " 11.71,\n",
       " 11.72,\n",
       " 11.75,\n",
       " 11.78,\n",
       " 11.785,\n",
       " 11.795,\n",
       " 11.805,\n",
       " 11.805,\n",
       " 11.82,\n",
       " 11.79,\n",
       " 11.76,\n",
       " 11.76,\n",
       " 11.71,\n",
       " 11.73]"
      ]
     },
     "execution_count": 8,
     "metadata": {},
     "output_type": "execute_result"
    }
   ],
   "source": [
    "taxas = tabela.values\n",
    "\n",
    "taxas = list(taxas)\n",
    "\n",
    "taxas"
   ]
  },
  {
   "cell_type": "code",
   "execution_count": 9,
   "metadata": {},
   "outputs": [
    {
     "data": {
      "text/plain": [
       "34"
      ]
     },
     "execution_count": 9,
     "metadata": {},
     "output_type": "execute_result"
    }
   ],
   "source": [
    "len(curva_dias_uteis)"
   ]
  },
  {
   "cell_type": "code",
   "execution_count": 11,
   "metadata": {},
   "outputs": [
    {
     "data": {
      "text/plain": [
       "944"
      ]
     },
     "execution_count": 11,
     "metadata": {},
     "output_type": "execute_result"
    }
   ],
   "source": [
    "dias_uteis_daqui_pra_data = len(pd.date_range(dia_atual, datetime(2028, 4, 18), freq=BDay()))\n",
    "\n",
    "dias_uteis_daqui_pra_data"
   ]
  },
  {
   "cell_type": "code",
   "execution_count": 12,
   "metadata": {},
   "outputs": [],
   "source": [
    "from scipy import interpolate\n",
    "import mplcyberpunk\n",
    "import matplotlib.pyplot as plt\n",
    "\n",
    "plt.style.use(\"cyberpunk\")"
   ]
  },
  {
   "cell_type": "code",
   "execution_count": 15,
   "metadata": {},
   "outputs": [],
   "source": [
    "linear = interpolate.interp1d(curva_dias_uteis, taxas, kind = 'linear')\n",
    "cubica = interpolate.interp1d(curva_dias_uteis, taxas, kind = 'cubic')\n",
    "splines_cubicas = CubicSpline(curva_dias_uteis, taxas, bc_type='natural')"
   ]
  },
  {
   "cell_type": "code",
   "execution_count": 16,
   "metadata": {},
   "outputs": [],
   "source": [
    "dias_novos = [dias_uteis_daqui_pra_data, 520, 385, 2200]\n",
    "taxas_linear = list(linear(dias_novos))\n",
    "taxas_cubica = list(cubica(dias_novos))\n",
    "taxas_splines_cubica = list(splines_cubicas(dias_novos))"
   ]
  },
  {
   "cell_type": "code",
   "execution_count": 17,
   "metadata": {},
   "outputs": [
    {
     "data": {
      "text/plain": [
       "[11.755538461538462, 11.68818181818182, 11.689375, 11.754615384615384]"
      ]
     },
     "execution_count": 17,
     "metadata": {},
     "output_type": "execute_result"
    }
   ],
   "source": [
    "taxas_linear"
   ]
  },
  {
   "cell_type": "code",
   "execution_count": 18,
   "metadata": {},
   "outputs": [
    {
     "data": {
      "text/plain": [
       "<matplotlib.collections.PathCollection at 0x21f02d3a850>"
      ]
     },
     "execution_count": 18,
     "metadata": {},
     "output_type": "execute_result"
    },
    {
     "data": {
      "image/png": "[encoded data removed]",
      "text/plain": [
       "<Figure size 640x480 with 1 Axes>"
      ]
     },
     "metadata": {},
     "output_type": "display_data"
    }
   ],
   "source": [
    "fig, ax = plt.subplots()\n",
    "\n",
    "ax.scatter(curva_dias_uteis, taxas)\n",
    "#ax.scatter(dias_novos, taxas_linear)\n",
    "#ax.scatter(dias_novos, taxas_cubica)\n",
    "ax.scatter(dias_novos, taxas_splines_cubica)"
   ]
  }
 ],
 "metadata": {
  "kernelspec": {
   "display_name": "base",
   "language": "python",
   "name": "python3"
  },
  "language_info": {
   "codemirror_mode": {
    "name": "ipython",
    "version": 3
   },
   "file_extension": ".py",
   "mimetype": "text/x-python",
   "name": "python",
   "nbconvert_exporter": "python",
   "pygments_lexer": "ipython3",
   "version": "3.11.5"
  }
 },
 "nbformat": 4,
 "nbformat_minor": 2
}
