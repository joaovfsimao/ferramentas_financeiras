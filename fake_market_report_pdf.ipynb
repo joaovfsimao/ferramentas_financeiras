{
 "cells": [
  {
   "cell_type": "code",
   "execution_count": 13,
   "metadata": {},
   "outputs": [],
   "source": [
    "from fpdf import FPDF\n",
    "import random\n",
    "import warnings\n",
    "warnings.filterwarnings(\"ignore\", category = DeprecationWarning)"
   ]
  },
  {
   "cell_type": "code",
   "execution_count": 14,
   "metadata": {},
   "outputs": [],
   "source": [
    "class PDF(FPDF):\n",
    "\n",
    "    def header(self):\n",
    "\n",
    "        self.image('quantfinancelogo.png', 10, 8, 30)\n",
    "        self.set_font('Arial', 'B', 20)\n",
    "        self.ln(15)\n",
    "        self.set_draw_color(128, 128, 128)\n",
    "        self.cell(25, ln = False)\n",
    "        self.cell(150, 15, f\"Market Report - 05/09/2024\", \n",
    "                  border = True, ln = True, align = \"C\")\n",
    "        self.ln(5)\n",
    "\n",
    "    def footer(self):\n",
    "        self.set_y(-15)\n",
    "        self.set_font(\"Arial\", 'I', 10)\n",
    "        self.cell(0, 10, f\"{self.page_no()}/{{nb}}\", align = \"C\")"
   ]
  },
  {
   "cell_type": "code",
   "execution_count": 15,
   "metadata": {},
   "outputs": [],
   "source": [
    "pdf = PDF(\"P\", \"mm\", \"Letter\")\n",
    "pdf.alias_nb_pages()\n",
    "pdf.set_auto_page_break(auto = True, margin = 15)\n",
    "pdf.set_fill_color(255, 255, 255)\n",
    "pdf.set_draw_color(128, 128, 128)\n",
    "pdf.add_page()\n"
   ]
  },
  {
   "cell_type": "code",
   "execution_count": 16,
   "metadata": {},
   "outputs": [],
   "source": [
    "pdf.set_font('Arial', '', 14)\n",
    "pdf.cell(0, 15, \"1.1 Fechamento do mercado\", ln = True,  border = False, fill = True)\n",
    "\n",
    "pdf.ln(7)"
   ]
  },
  {
   "cell_type": "code",
   "execution_count": 17,
   "metadata": {},
   "outputs": [],
   "source": [
    "#fechamento ibov\n",
    "pdf.set_font('Arial', '', 13)\n",
    "pdf.cell(25, 15, \" Ibovespa\", ln = False,  border = True, fill = True)\n",
    "pdf.cell(20, 15, f\" 1.95%\", ln = True, border = True, fill = False)\n",
    "         \n",
    "#fechamento s&p500\n",
    "pdf.cell(25, 15, \" S&P500\", ln = False,  border = True, fill = True)\n",
    "pdf.cell(20, 15, f\" -0.65%\", ln = True,  border = True, fill = False)\n",
    "\n",
    "#fechamento Dólar\n",
    "pdf.cell(25, 15, \" Dólar\", ln = False,  border = True, fill = True)\n",
    "pdf.cell(20, 15, f\" 2.11%\", ln = True,  border = True, fill = False)\n",
    "\n",
    "pdf.ln(7)\n"
   ]
  },
  {
   "cell_type": "code",
   "execution_count": 18,
   "metadata": {},
   "outputs": [],
   "source": [
    "#imagens\n",
    "pdf.set_font('Arial', '', 14)\n",
    "pdf.cell(0, 15, \"   1.2 Gráficos Ibovespa, S&P500 e Dólar\", ln = True,  border = False, fill = False)\n",
    "\n",
    "pdf.cell(95, 15, \"Ibovespa\", ln = False,  border = False, fill = False, align = \"C\")\n",
    "pdf.cell(100, 15, \"S&P500\", ln = True,  border = False, fill = False, align = \"C\")\n",
    "pdf.image(\"ibov.png\", w = 80, h = 70, x = 20, y = 160)\n",
    "pdf.image(\"sp.png\", w = 80, h = 70, x = 115, y = 160)\n",
    "\n",
    "pdf.ln(130)\n",
    "\n",
    "pdf.cell(0, 15, \"Dólar\", ln = True,  border = False, fill = False, align = \"C\")\n",
    "pdf.image(\"dolar.png\", w = 100, h = 75, x = 58)\n",
    "\n",
    "\n",
    "pdf.ln(2)\n"
   ]
  },
  {
   "cell_type": "code",
   "execution_count": 19,
   "metadata": {},
   "outputs": [],
   "source": [
    "meses = ['Jan', 'Fev', 'Mar', 'Abr', 'Mai', 'Jun', 'Jul', 'Ago', 'Set', 'Out', 'Nov', 'Dez']"
   ]
  },
  {
   "cell_type": "code",
   "execution_count": 20,
   "metadata": {},
   "outputs": [],
   "source": [
    "pdf.set_font('Arial', '', 14)\n",
    "pdf.cell(0, 15, \"   1.3 Rentabilidade mês a mês\", ln = True,  border = False, fill = False)\n",
    "\n",
    "\n",
    "\n",
    "pdf.cell(20, 10, \"\", ln = False,  border = False, fill = True, align = \"C\")\n",
    "pdf.set_font('Arial', 'B', 12)\n",
    "\n",
    "for mes in meses:\n",
    "    \n",
    "    pdf.cell(15, 10, mes, ln = False,  border = True, fill = True, align = \"C\")\n",
    "\n",
    "\n",
    "pdf.ln(10)\n"
   ]
  },
  {
   "cell_type": "code",
   "execution_count": 21,
   "metadata": {},
   "outputs": [],
   "source": [
    "pdf.set_font('Arial', '', 12)\n",
    "\n",
    "pdf.cell(20, 10, \"Ibov\", ln = False,  border = True, fill = True, align = \"C\")\n",
    "\n",
    "for mes in meses:\n",
    "    \n",
    "    pdf.cell(15, 10, f\" {round(random.random(), 2)}%\", ln = False,  border = True, align = \"C\")\n",
    "\n",
    "pdf.ln(10)\n",
    "\n",
    "pdf.cell(20, 10, \"S&P500\", ln = False,  border = True, fill = True, align = \"C\")\n",
    "\n",
    "for mes in meses:\n",
    "    \n",
    "    pdf.cell(15, 10, f\" {round(random.random(), 2)}%\", ln = False,  border = True, align = \"C\")\n",
    "\n",
    "pdf.ln(10)\n",
    "\n",
    "pdf.cell(20, 10, \"Dólar\", ln = False,  border = True, fill = True, align = \"C\")\n",
    "\n",
    "for mes in meses:\n",
    "    \n",
    "    pdf.cell(15, 10, f\" {round(random.random(), 2)}%\", ln = False,  border = True, align = \"C\")\n",
    "\n",
    "pdf.ln(10)\n"
   ]
  },
  {
   "cell_type": "code",
   "execution_count": 22,
   "metadata": {},
   "outputs": [],
   "source": [
    "#rent anual\n",
    "pdf.set_font('Arial', '', 14)\n",
    "pdf.cell(0, 15, \"   1.4 Rentabilidade no ano\", ln = True,  border = False, fill = False)\n",
    "\n",
    "#rent anual ibov\n",
    "pdf.set_font('Arial', '', 13)\n",
    "pdf.cell(25, 10, \"Ibovespa\", ln = False,  border = True, fill = True, align = \"C\")\n",
    "pdf.cell(20, 10, f\" 20.25%\", ln = True,  border = True, align = \"C\")\n",
    "\n",
    "#rent anual S&P\n",
    "pdf.cell(25, 10, \"S&P500\", ln = False,  border = True, fill = True, align = \"C\")\n",
    "pdf.cell(20, 10, f\" -15.65%\", ln = True,  border = True, align = \"C\")\n",
    "\n",
    "#rent anual Dólar\n",
    "pdf.cell(25, 10, \"Dólar\", ln = False,  border = True, fill = True, align = \"C\")\n",
    "pdf.cell(20, 10, f\" 10.14%\", ln = True,  border = True, align = \"C\")\n",
    "\n",
    "\n",
    "pdf.ln(20)"
   ]
  },
  {
   "cell_type": "code",
   "execution_count": 23,
   "metadata": {},
   "outputs": [],
   "source": [
    "#volatilidade\n",
    "pdf.set_font('Arial', '', 14)\n",
    "pdf.cell(0, 15, \"   1.5 Volatilidade 12M\", ln = True,  border = False, fill = False)\n",
    "\n",
    "#vol ibov\n",
    "pdf.set_font('Arial', '', 13)\n",
    "pdf.cell(25, 10, \"Ibovespa\", ln = False,  border = True, fill = True, align = \"C\")\n",
    "pdf.cell(20, 10, f\" 25%\", ln = True,  border = True, align = \"C\")\n",
    "\n",
    "#vol s&p500\n",
    "pdf.cell(25, 10, \"S&P500\", ln = False,  border = True, fill = True, align = \"C\")\n",
    "pdf.cell(20, 10, f\" 30%\", ln = True,  border = True, align = \"C\")\n",
    "\n",
    "#vol dolar\n",
    "pdf.cell(25, 10, \"Dólar\", ln = False,  border = True, fill = True, align = \"C\")\n",
    "pdf.cell(20, 10, f\" 10%\", ln = True,  border = True, align = \"C\")\n",
    "\n",
    "pdf.ln(7)"
   ]
  },
  {
   "cell_type": "code",
   "execution_count": 24,
   "metadata": {},
   "outputs": [
    {
     "data": {
      "text/plain": [
       "''"
      ]
     },
     "execution_count": 24,
     "metadata": {},
     "output_type": "execute_result"
    }
   ],
   "source": [
    "pdf.set_font('Arial', 'B', 18)\n",
    "pdf.cell(0, 15, \"2 - Dados econômicos\", ln = True,  border = False, fill = False)\n",
    "\n",
    "pdf.set_font('Arial', '', 14)\n",
    "pdf.cell(0, 15, \"2.1 Curva de juros\", ln = True,  border = False, fill = False)\n",
    "pdf.image(\"juros.png\", w = 125, h = 100, x = 40, y = 140)\n",
    "\n",
    "pdf.ln(135)\n",
    "\n",
    "pdf.cell(0, 15, \"2.2 Inflacão\", ln = True,  border = False, fill = False)\n",
    "pdf.image(\"inflacao.png\", w = 110, h = 90, x = 40)\n",
    "\n",
    "\n",
    "pdf.cell(0, 15, \"2.3 Selic\", ln = True,  border = False, fill = False)\n",
    "pdf.image(\"selic.png\", w = 110, h = 90, x = 40)\n",
    "\n",
    "pdf.output('fake_market_report.pdf')"
   ]
  }
 ],
 "metadata": {
  "kernelspec": {
   "display_name": "base",
   "language": "python",
   "name": "python3"
  },
  "language_info": {
   "codemirror_mode": {
    "name": "ipython",
    "version": 3
   },
   "file_extension": ".py",
   "mimetype": "text/x-python",
   "name": "python",
   "nbconvert_exporter": "python",
   "pygments_lexer": "ipython3",
   "version": "3.11.5"
  }
 },
 "nbformat": 4,
 "nbformat_minor": 2
}
